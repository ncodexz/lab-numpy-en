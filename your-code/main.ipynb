{
 "cells": [
  {
   "cell_type": "markdown",
   "metadata": {},
   "source": [
    "# Lab | Numpy Deep Dive"
   ]
  },
  {
   "cell_type": "markdown",
   "metadata": {},
   "source": [
    "### 1. Import the NUMPY package under the name np.\n"
   ]
  },
  {
   "cell_type": "code",
   "execution_count": 9,
   "metadata": {},
   "outputs": [],
   "source": [
    "### [your code here]\n",
    "import numpy as np"
   ]
  },
  {
   "cell_type": "markdown",
   "metadata": {},
   "source": [
    "\n",
    "\n",
    "### 2. Print the NUMPY version and the configuration.\n"
   ]
  },
  {
   "cell_type": "code",
   "execution_count": 11,
   "metadata": {},
   "outputs": [
    {
     "name": "stdout",
     "output_type": "stream",
     "text": [
      "NumPy version: 2.1.3\n"
     ]
    }
   ],
   "source": [
    "### [your code here]\n",
    "print(\"NumPy version:\", np.__version__)"
   ]
  },
  {
   "cell_type": "markdown",
   "metadata": {},
   "source": [
    "### 3. Generate a 2x3x5 3-dimensional array with random values. Assign the array to variable \"a\"\n",
    "Challenge: there are at least three easy ways that use numpy to generate random arrays. How many ways can you find?\n"
   ]
  },
  {
   "cell_type": "code",
   "execution_count": 27,
   "metadata": {},
   "outputs": [],
   "source": [
    "### [your code here]\n",
    "a = np.random.rand(2,3,5)\n",
    "e = np.random.random((2,3,5))\n",
    "x = np.random.randint(0,10,size=(2,3,5))"
   ]
  },
  {
   "cell_type": "markdown",
   "metadata": {},
   "source": [
    "\n",
    "### 4. Print a.\n"
   ]
  },
  {
   "cell_type": "code",
   "execution_count": 26,
   "metadata": {},
   "outputs": [
    {
     "name": "stdout",
     "output_type": "stream",
     "text": [
      "[[[0.10368891 0.66152338 0.97035731 0.53611069 0.93287925]\n",
      "  [0.2495735  0.71911841 0.31860878 0.45763689 0.9351855 ]\n",
      "  [0.69769792 0.48297627 0.5898844  0.05982341 0.57220267]]\n",
      "\n",
      " [[0.45356623 0.9746517  0.58683604 0.41552222 0.99643   ]\n",
      "  [0.51588622 0.37589974 0.9827187  0.80063359 0.09069563]\n",
      "  [0.31070519 0.70989374 0.09155035 0.86769875 0.96234685]]]\n"
     ]
    }
   ],
   "source": [
    "### [your code here]\n",
    "print(a)\n"
   ]
  },
  {
   "cell_type": "markdown",
   "metadata": {},
   "source": [
    " ### 5. Create a 5x2x3 3-dimensional array with all values equaling 1.\n",
    "### Assign the array to variable \"b\"\n"
   ]
  },
  {
   "cell_type": "code",
   "execution_count": 29,
   "metadata": {},
   "outputs": [],
   "source": [
    "### [your code here]\n",
    "b=np.ones((5,2,3))"
   ]
  },
  {
   "cell_type": "markdown",
   "metadata": {},
   "source": [
    "\n",
    "### 6. Print b.\n"
   ]
  },
  {
   "cell_type": "code",
   "execution_count": 30,
   "metadata": {},
   "outputs": [
    {
     "name": "stdout",
     "output_type": "stream",
     "text": [
      "[[[1. 1. 1.]\n",
      "  [1. 1. 1.]]\n",
      "\n",
      " [[1. 1. 1.]\n",
      "  [1. 1. 1.]]\n",
      "\n",
      " [[1. 1. 1.]\n",
      "  [1. 1. 1.]]\n",
      "\n",
      " [[1. 1. 1.]\n",
      "  [1. 1. 1.]]\n",
      "\n",
      " [[1. 1. 1.]\n",
      "  [1. 1. 1.]]]\n"
     ]
    }
   ],
   "source": [
    "### [your code here]\n",
    "print(b)"
   ]
  },
  {
   "cell_type": "markdown",
   "metadata": {},
   "source": [
    "\n",
    "### 7. Do a and b have the same size? How do you prove that in Python code?\n"
   ]
  },
  {
   "cell_type": "code",
   "execution_count": 33,
   "metadata": {},
   "outputs": [
    {
     "name": "stdout",
     "output_type": "stream",
     "text": [
      "yes,their size are : 30\n"
     ]
    }
   ],
   "source": [
    "### [your code here]\n",
    "if a.size == b.size:\n",
    "    print('yes,their size are :',a.size)\n",
    "else:\n",
    "    print ('No, they have diferent size')"
   ]
  },
  {
   "cell_type": "markdown",
   "metadata": {},
   "source": [
    "\n",
    "### 8. Are you able to add a and b? Why or why not?\n"
   ]
  },
  {
   "cell_type": "code",
   "execution_count": null,
   "metadata": {},
   "outputs": [
    {
     "name": "stdout",
     "output_type": "stream",
     "text": [
      "(2, 3, 5)\n",
      "(5, 2, 3)\n"
     ]
    }
   ],
   "source": [
    "### [your code here]\n",
    "print(a.shape)\n",
    "print(b.shape)\n",
    "\n",
    "\"\"\"it is not possible because they dont have the same shape.\"\"\"\n"
   ]
  },
  {
   "cell_type": "markdown",
   "metadata": {},
   "source": [
    "\n",
    "\n",
    "### 9. Transpose b so that it has the same structure of a (i.e. become a 2x3x5 array). Assign the transposed array to varialbe \"c\".\n"
   ]
  },
  {
   "cell_type": "code",
   "execution_count": 35,
   "metadata": {},
   "outputs": [],
   "source": [
    "### [your code here]\n",
    "c = b.transpose(1,2,0)"
   ]
  },
  {
   "cell_type": "markdown",
   "metadata": {},
   "source": [
    "\n",
    "### 10. Try to add a and c. Now it should work. Assign the sum to variable \"d\". But why does it work now?\n"
   ]
  },
  {
   "cell_type": "code",
   "execution_count": 37,
   "metadata": {},
   "outputs": [
    {
     "name": "stdout",
     "output_type": "stream",
     "text": [
      "[[[1.47109166 1.87430533 1.96773855 1.99198382 1.40658446]\n",
      "  [1.67023612 1.86118689 1.93350031 1.8246161  1.31522427]\n",
      "  [1.43855414 1.1343747  1.61485169 1.91470795 1.26735135]]\n",
      "\n",
      " [[1.4936253  1.37988066 1.43244672 1.9917685  1.27706403]\n",
      "  [1.23921167 1.1289231  1.68455068 1.44317315 1.91000306]\n",
      "  [1.64451545 1.69744889 1.24251246 1.79674791 1.40340144]]]\n"
     ]
    }
   ],
   "source": [
    "### [your code here]\n",
    "d = a + c\n",
    "print(d)"
   ]
  },
  {
   "cell_type": "markdown",
   "metadata": {},
   "source": [
    "\n",
    "### 11. Print a and d. Notice the difference and relation of the two array in terms of the values? Explain.\n"
   ]
  },
  {
   "cell_type": "code",
   "execution_count": 39,
   "metadata": {},
   "outputs": [
    {
     "name": "stdout",
     "output_type": "stream",
     "text": [
      "[[[0.47109166 0.87430533 0.96773855 0.99198382 0.40658446]\n",
      "  [0.67023612 0.86118689 0.93350031 0.8246161  0.31522427]\n",
      "  [0.43855414 0.1343747  0.61485169 0.91470795 0.26735135]]\n",
      "\n",
      " [[0.4936253  0.37988066 0.43244672 0.9917685  0.27706403]\n",
      "  [0.23921167 0.1289231  0.68455068 0.44317315 0.91000306]\n",
      "  [0.64451545 0.69744889 0.24251246 0.79674791 0.40340144]]]\n",
      "[[[1.47109166 1.87430533 1.96773855 1.99198382 1.40658446]\n",
      "  [1.67023612 1.86118689 1.93350031 1.8246161  1.31522427]\n",
      "  [1.43855414 1.1343747  1.61485169 1.91470795 1.26735135]]\n",
      "\n",
      " [[1.4936253  1.37988066 1.43244672 1.9917685  1.27706403]\n",
      "  [1.23921167 1.1289231  1.68455068 1.44317315 1.91000306]\n",
      "  [1.64451545 1.69744889 1.24251246 1.79674791 1.40340144]]]\n"
     ]
    }
   ],
   "source": [
    "### [your code here]\n",
    "print(a)\n",
    "\n",
    "print(d)\n",
    "\n"
   ]
  },
  {
   "cell_type": "markdown",
   "metadata": {},
   "source": [
    "\n",
    "### 12. Multiply a and c. Assign the result to e.\n"
   ]
  },
  {
   "cell_type": "code",
   "execution_count": 41,
   "metadata": {},
   "outputs": [
    {
     "name": "stdout",
     "output_type": "stream",
     "text": [
      "[[[0.47109166 0.87430533 0.96773855 0.99198382 0.40658446]\n",
      "  [0.67023612 0.86118689 0.93350031 0.8246161  0.31522427]\n",
      "  [0.43855414 0.1343747  0.61485169 0.91470795 0.26735135]]\n",
      "\n",
      " [[0.4936253  0.37988066 0.43244672 0.9917685  0.27706403]\n",
      "  [0.23921167 0.1289231  0.68455068 0.44317315 0.91000306]\n",
      "  [0.64451545 0.69744889 0.24251246 0.79674791 0.40340144]]]\n"
     ]
    }
   ],
   "source": [
    "### [your code here]\n",
    "e = a*c\n",
    "print(e)"
   ]
  },
  {
   "cell_type": "markdown",
   "metadata": {},
   "source": [
    "\n",
    "\n",
    "### 13. Does e equal to a? Why or why not?\n"
   ]
  },
  {
   "cell_type": "code",
   "execution_count": null,
   "metadata": {},
   "outputs": [],
   "source": [
    "### [your code here]\n",
    "\"\"\"yes, because is like multiply by 1\"\"\"\n"
   ]
  },
  {
   "cell_type": "markdown",
   "metadata": {},
   "source": [
    "\n",
    "\n",
    "### 14. Identify the max, min, and mean values in d. Assign those values to variables \"d_max\", \"d_min\", and \"d_mean\"\n"
   ]
  },
  {
   "cell_type": "code",
   "execution_count": 44,
   "metadata": {},
   "outputs": [
    {
     "name": "stdout",
     "output_type": "stream",
     "text": [
      "1.9919838199031488\n",
      "1.1289230987046321\n",
      "1.581719344199326\n"
     ]
    }
   ],
   "source": [
    "### [your code here]\n",
    "\n",
    "d_max =np.max(d)\n",
    "d_min = np.min(d)\n",
    "d_mean = np.mean(d)\n",
    "\n",
    "print(d_max)\n",
    "print(d_min)\n",
    "print(d_mean)"
   ]
  },
  {
   "cell_type": "markdown",
   "metadata": {},
   "source": [
    "\n",
    "### 15. Now we want to label the values in d. First create an empty array \"f\" with the same shape (i.e. 2x3x5) as d using `np.empty`.\n"
   ]
  },
  {
   "cell_type": "code",
   "execution_count": 45,
   "metadata": {},
   "outputs": [],
   "source": [
    "### [your code here]\n",
    "f = np.empty(d.shape)"
   ]
  },
  {
   "cell_type": "markdown",
   "metadata": {},
   "source": [
    "\n",
    "\n",
    "\n",
    "### 16. Populate the values in f. For each value in d, if it's larger than d_min but smaller than d_mean, assign 25 to the corresponding value in f.\n",
    "If a value in d is larger than d_mean but smaller than d_max, assign 75 to the corresponding value in f.\n",
    "If a value equals to d_mean, assign 50 to the corresponding value in f.\n",
    "Assign 0 to the corresponding value(s) in f for d_min in d.\n",
    "Assign 100 to the corresponding value(s) in f for d_max in d.\n",
    "In the end, f should have only the following values: 0, 25, 50, 75, and 100.\n",
    "Note: you don't have to use Numpy in this question.\n",
    "\n"
   ]
  },
  {
   "cell_type": "code",
   "execution_count": 46,
   "metadata": {},
   "outputs": [],
   "source": [
    "### [your code here]\n",
    "for i in range(d.shape[0]):\n",
    "    for j in range (d.shape[1]):\n",
    "        for k in range(d.shape[2]):\n",
    "            val = d[i,j,k]\n",
    "            if val == d_min:\n",
    "                f[i, j, k] = 0\n",
    "            elif val == d_max:\n",
    "                f[i, j, k] = 100\n",
    "            elif val == d_mean:\n",
    "                f[i, j, k] = 50\n",
    "            elif d_min < val < d_mean:\n",
    "                f[i, j, k] = 25\n",
    "            elif d_mean < val < d_max:\n",
    "                f[i, j, k] = 75\n",
    "            "
   ]
  },
  {
   "cell_type": "markdown",
   "metadata": {},
   "source": [
    "\n",
    "\n",
    "\n",
    "\n",
    "### 17. Print d and f. Do you have your expected f?\n",
    "For instance, if your d is:\n",
    "array([[[1.85836099, 1.67064465, 1.62576044, 1.40243961, 1.88454931],\n",
    "        [1.75354326, 1.69403643, 1.36729252, 1.61415071, 1.12104981],\n",
    "        [1.72201435, 1.1862918 , 1.87078449, 1.7726778 , 1.88180042]],\n",
    "\n",
    "       [[1.44747908, 1.31673383, 1.02000951, 1.52218947, 1.97066381],\n",
    "        [1.79129243, 1.74983003, 1.96028037, 1.85166831, 1.65450881],\n",
    "        [1.18068344, 1.9587381 , 1.00656599, 1.93402165, 1.73514584]]])\n",
    "\n",
    "Your f should be:\n",
    "array([[[ 75.,  75.,  75.,  25.,  75.],\n",
    "        [ 75.,  75.,  25.,  25.,  25.],\n",
    "        [ 75.,  25.,  75.,  75.,  75.]],\n",
    "\n",
    "       [[ 25.,  25.,  25.,  25., 100.],\n",
    "        [ 75.,  75.,  75.,  75.,  75.],\n",
    "        [ 25.,  75.,   0.,  75.,  75.]]])\n",
    "\n"
   ]
  },
  {
   "cell_type": "code",
   "execution_count": 48,
   "metadata": {},
   "outputs": [
    {
     "name": "stdout",
     "output_type": "stream",
     "text": [
      "[[[1.47109166 1.87430533 1.96773855 1.99198382 1.40658446]\n",
      "  [1.67023612 1.86118689 1.93350031 1.8246161  1.31522427]\n",
      "  [1.43855414 1.1343747  1.61485169 1.91470795 1.26735135]]\n",
      "\n",
      " [[1.4936253  1.37988066 1.43244672 1.9917685  1.27706403]\n",
      "  [1.23921167 1.1289231  1.68455068 1.44317315 1.91000306]\n",
      "  [1.64451545 1.69744889 1.24251246 1.79674791 1.40340144]]]\n",
      "[[[ 25.  75.  75. 100.  25.]\n",
      "  [ 75.  75.  75.  75.  25.]\n",
      "  [ 25.  25.  75.  75.  25.]]\n",
      "\n",
      " [[ 25.  25.  25.  75.  25.]\n",
      "  [ 25.   0.  75.  25.  75.]\n",
      "  [ 75.  75.  25.  75.  25.]]]\n"
     ]
    }
   ],
   "source": [
    "### [your code here]\n",
    "print(d)\n",
    "print(f)"
   ]
  },
  {
   "cell_type": "markdown",
   "metadata": {},
   "source": [
    "### 18.Bonus question: instead of using numbers (i.e. 0, 25, 50, 75, and 100), how to use string values \n",
    "(\"A\", \"B\", \"C\", \"D\", and \"E\") to label the array elements? You are expecting the result to be:\n",
    "array([[[ 'D',  'D',  'D',  'B',  'D'],\n",
    "        [ 'D',  'D',  'B',  'B',  'B'],\n",
    "        [ 'D',  'B',  'D',  'D',  'D']],\n",
    "\n",
    "       [[ 'B',  'B',  'B',  'B',  'E'],\n",
    "        [ 'D',  'D',  'D',  'D',  'D'],\n",
    "        [ 'B',  'D',   'A',  'D', 'D']]])\n",
    "Again, you don't need Numpy in this question. "
   ]
  },
  {
   "cell_type": "code",
   "execution_count": 51,
   "metadata": {},
   "outputs": [
    {
     "ename": "ValueError",
     "evalue": "could not convert string to float: 'B'",
     "output_type": "error",
     "traceback": [
      "\u001b[0;31m---------------------------------------------------------------------------\u001b[0m",
      "\u001b[0;31mValueError\u001b[0m                                Traceback (most recent call last)",
      "Cell \u001b[0;32mIn[51], line 13\u001b[0m\n\u001b[1;32m     11\u001b[0m     f[i, j, k] \u001b[38;5;241m=\u001b[39m \u001b[38;5;124m\"\u001b[39m\u001b[38;5;124mC\u001b[39m\u001b[38;5;124m\"\u001b[39m\n\u001b[1;32m     12\u001b[0m \u001b[38;5;28;01melif\u001b[39;00m d_min \u001b[38;5;241m<\u001b[39m val \u001b[38;5;241m<\u001b[39m d_mean:\n\u001b[0;32m---> 13\u001b[0m     f[i, j, k] \u001b[38;5;241m=\u001b[39m \u001b[38;5;124m\"\u001b[39m\u001b[38;5;124mB\u001b[39m\u001b[38;5;124m\"\u001b[39m\n\u001b[1;32m     14\u001b[0m \u001b[38;5;28;01melif\u001b[39;00m d_mean \u001b[38;5;241m<\u001b[39m val \u001b[38;5;241m<\u001b[39m d_max:\n\u001b[1;32m     15\u001b[0m     f[i, j, k] \u001b[38;5;241m=\u001b[39m \u001b[38;5;124m\"\u001b[39m\u001b[38;5;124mD\u001b[39m\u001b[38;5;124m\"\u001b[39m\n",
      "\u001b[0;31mValueError\u001b[0m: could not convert string to float: 'B'"
     ]
    }
   ],
   "source": [
    "### [your code here]\n",
    "for i in range(d.shape[0]):\n",
    "    for j in range(d.shape[1]):\n",
    "        for k in range(d.shape[2]):\n",
    "            val = d[i, j, k]\n",
    "            if val == d_min:\n",
    "                f[i, j, k] = \"A\"\n",
    "            elif val == d_max:\n",
    "                f[i, j, k] = \"E\"\n",
    "            elif val == d_mean:\n",
    "                f[i, j, k] = \"C\"\n",
    "            elif d_min < val < d_mean:\n",
    "                f[i, j, k] = \"B\"\n",
    "            elif d_mean < val < d_max:\n",
    "                f[i, j, k] = \"D\""
   ]
  }
 ],
 "metadata": {
  "kernelspec": {
   "display_name": "base",
   "language": "python",
   "name": "python3"
  },
  "language_info": {
   "codemirror_mode": {
    "name": "ipython",
    "version": 3
   },
   "file_extension": ".py",
   "mimetype": "text/x-python",
   "name": "python",
   "nbconvert_exporter": "python",
   "pygments_lexer": "ipython3",
   "version": "3.13.5"
  }
 },
 "nbformat": 4,
 "nbformat_minor": 2
}
